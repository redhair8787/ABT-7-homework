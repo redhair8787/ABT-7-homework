{
 "cells": [
  {
   "cell_type": "markdown",
   "metadata": {},
   "source": [
    "Выберите две закономерности в данных из приведенных ниже, сформулируйте для них гипотезы по всем правилам:\n",
    "● В период Surge видим более низкую price-to-order конверсию\n",
    "● Для устройств Android наблюдаем более высокие юзерские отмены\n",
    "● Если Заказ из центра, то видим более низкие юзерские отмены\n",
    "● Если Comfort & Business классы, то более низкие юзерские отмены, более длинные поездки\n",
    "\n",
    "Опишите порядок проведения теста для проверки гипотез.\n",
    "\n",
    "Разбейте юзеров на группы с помощью рандома по следующему алгориму:\n",
    "● Добавьте новую колонку, где каждому юзеру присвойте значение функции RAND() - выдает случайное число от 0 до 1\n",
    "● В зависимости от значения rand - поместите пользователя в группу 1 или 2. (если rand >0.5, то 1, иначе 2)\n",
    "\n",
    "Проверьте на однородность с помощью t-теста (встроенной функией excel)\n",
    "Важно: функция работает только на выборках одинакового размера. Убедитесь что группы 1 и 2 одинаковы по количеству юзеров. Для выравнивания можно исключить некоторое кол-во юзеров в большей группе."
   ]
  },
  {
   "cell_type": "code",
   "execution_count": 2,
   "metadata": {},
   "outputs": [],
   "source": [
    "import pandas as pd\n",
    "import numpy as np\n",
    "from scipy import stats as st\n",
    "from scipy.stats import mannwhitneyu\n",
    "from scipy.stats import norm\n",
    "import random"
   ]
  },
  {
   "cell_type": "code",
   "execution_count": 4,
   "metadata": {},
   "outputs": [
    {
     "data": {
      "text/html": [
       "<div>\n",
       "<style scoped>\n",
       "    .dataframe tbody tr th:only-of-type {\n",
       "        vertical-align: middle;\n",
       "    }\n",
       "\n",
       "    .dataframe tbody tr th {\n",
       "        vertical-align: top;\n",
       "    }\n",
       "\n",
       "    .dataframe thead th {\n",
       "        text-align: right;\n",
       "    }\n",
       "</style>\n",
       "<table border=\"1\" class=\"dataframe\">\n",
       "  <thead>\n",
       "    <tr style=\"text-align: right;\">\n",
       "      <th></th>\n",
       "      <th>Unnamed: 0</th>\n",
       "      <th>date</th>\n",
       "      <th>user_id</th>\n",
       "      <th>hour</th>\n",
       "      <th>app_opened</th>\n",
       "      <th>price_seen</th>\n",
       "      <th>order_made</th>\n",
       "      <th>surge</th>\n",
       "      <th>ride_completed</th>\n",
       "      <th>user_cancelled</th>\n",
       "      <th>age</th>\n",
       "      <th>os</th>\n",
       "      <th>city_center_order</th>\n",
       "      <th>order_class</th>\n",
       "      <th>distance</th>\n",
       "      <th>rfm</th>\n",
       "    </tr>\n",
       "  </thead>\n",
       "  <tbody>\n",
       "    <tr>\n",
       "      <th>0</th>\n",
       "      <td>0</td>\n",
       "      <td>2020-05-21</td>\n",
       "      <td>867689</td>\n",
       "      <td>12</td>\n",
       "      <td>1</td>\n",
       "      <td>1</td>\n",
       "      <td>1</td>\n",
       "      <td>no surge</td>\n",
       "      <td>1</td>\n",
       "      <td>0</td>\n",
       "      <td>20</td>\n",
       "      <td>iOS</td>\n",
       "      <td>0</td>\n",
       "      <td>business</td>\n",
       "      <td>7.982135</td>\n",
       "      <td>low</td>\n",
       "    </tr>\n",
       "    <tr>\n",
       "      <th>1</th>\n",
       "      <td>1</td>\n",
       "      <td>2020-05-23</td>\n",
       "      <td>752172</td>\n",
       "      <td>5</td>\n",
       "      <td>1</td>\n",
       "      <td>1</td>\n",
       "      <td>1</td>\n",
       "      <td>no surge</td>\n",
       "      <td>1</td>\n",
       "      <td>0</td>\n",
       "      <td>37</td>\n",
       "      <td>Android</td>\n",
       "      <td>1</td>\n",
       "      <td>economy</td>\n",
       "      <td>2.908468</td>\n",
       "      <td>high</td>\n",
       "    </tr>\n",
       "    <tr>\n",
       "      <th>2</th>\n",
       "      <td>2</td>\n",
       "      <td>2020-05-20</td>\n",
       "      <td>486559</td>\n",
       "      <td>15</td>\n",
       "      <td>1</td>\n",
       "      <td>1</td>\n",
       "      <td>1</td>\n",
       "      <td>no surge</td>\n",
       "      <td>1</td>\n",
       "      <td>0</td>\n",
       "      <td>47</td>\n",
       "      <td>Android</td>\n",
       "      <td>0</td>\n",
       "      <td>comfort</td>\n",
       "      <td>7.224614</td>\n",
       "      <td>low</td>\n",
       "    </tr>\n",
       "    <tr>\n",
       "      <th>3</th>\n",
       "      <td>3</td>\n",
       "      <td>2020-05-19</td>\n",
       "      <td>304024</td>\n",
       "      <td>0</td>\n",
       "      <td>1</td>\n",
       "      <td>1</td>\n",
       "      <td>1</td>\n",
       "      <td>no surge</td>\n",
       "      <td>1</td>\n",
       "      <td>0</td>\n",
       "      <td>59</td>\n",
       "      <td>Android</td>\n",
       "      <td>1</td>\n",
       "      <td>economy</td>\n",
       "      <td>1.874349</td>\n",
       "      <td>low</td>\n",
       "    </tr>\n",
       "    <tr>\n",
       "      <th>4</th>\n",
       "      <td>4</td>\n",
       "      <td>2020-05-23</td>\n",
       "      <td>139420</td>\n",
       "      <td>0</td>\n",
       "      <td>1</td>\n",
       "      <td>1</td>\n",
       "      <td>1</td>\n",
       "      <td>no surge</td>\n",
       "      <td>1</td>\n",
       "      <td>0</td>\n",
       "      <td>19</td>\n",
       "      <td>Android</td>\n",
       "      <td>0</td>\n",
       "      <td>business</td>\n",
       "      <td>10.704778</td>\n",
       "      <td>medium</td>\n",
       "    </tr>\n",
       "  </tbody>\n",
       "</table>\n",
       "</div>"
      ],
      "text/plain": [
       "   Unnamed: 0        date  user_id  hour  app_opened  price_seen  order_made  \\\n",
       "0           0  2020-05-21   867689    12           1           1           1   \n",
       "1           1  2020-05-23   752172     5           1           1           1   \n",
       "2           2  2020-05-20   486559    15           1           1           1   \n",
       "3           3  2020-05-19   304024     0           1           1           1   \n",
       "4           4  2020-05-23   139420     0           1           1           1   \n",
       "\n",
       "      surge  ride_completed  user_cancelled  age       os  city_center_order  \\\n",
       "0  no surge               1               0   20      iOS                  0   \n",
       "1  no surge               1               0   37  Android                  1   \n",
       "2  no surge               1               0   47  Android                  0   \n",
       "3  no surge               1               0   59  Android                  1   \n",
       "4  no surge               1               0   19  Android                  0   \n",
       "\n",
       "  order_class   distance     rfm  \n",
       "0    business   7.982135     low  \n",
       "1     economy   2.908468    high  \n",
       "2     comfort   7.224614     low  \n",
       "3     economy   1.874349     low  \n",
       "4    business  10.704778  medium  "
      ]
     },
     "execution_count": 4,
     "metadata": {},
     "output_type": "execute_result"
    }
   ],
   "source": [
    "df = pd.read_csv('Netology_A_B-testing_HW_1 (2).csv')\n",
    "df.head()"
   ]
  },
  {
   "cell_type": "markdown",
   "metadata": {},
   "source": [
    "В период Surge видим более низкую price-to-order конверсию\n",
    "\n",
    "\n",
    "H0: Price-to-order конверсия не отличается в моменты повышенного спроса и в обычное время"
   ]
  },
  {
   "cell_type": "code",
   "execution_count": 5,
   "metadata": {},
   "outputs": [],
   "source": [
    "# Разделяем датафрейм по целевой метрике surge и price seen\n",
    "df_surge = df[ (df['price_seen'] == 1) & (df['surge'] == 'surge') ]\n",
    "df_nosurge = df[ (df['price_seen'] == 1) & (df['surge'] == 'no surge')]\n",
    "\n"
   ]
  },
  {
   "cell_type": "code",
   "execution_count": 6,
   "metadata": {},
   "outputs": [],
   "source": [
    "# Оставдяем только уникальных пользователей и усредняем показатели\n",
    "df_surge_uniq = df_surge.groupby(['user_id']).mean().reset_index()\n",
    "df_nosurge_uniq = df_nosurge.groupby(['user_id']).mean().reset_index()"
   ]
  },
  {
   "cell_type": "code",
   "execution_count": 7,
   "metadata": {},
   "outputs": [],
   "source": [
    "# В подвыборке оставляем 3000 пользователей, т.к. для стат.тестов минимальный порог 2500\n",
    "\n",
    "df_surge_uniq_sample = df_surge_uniq.sample(n=3000, random_state=1)\n",
    "df_nosurge_uniq_sample = df_nosurge_uniq.sample(n=3000, random_state=1)"
   ]
  },
  {
   "cell_type": "code",
   "execution_count": 8,
   "metadata": {},
   "outputs": [
    {
     "name": "stdout",
     "output_type": "stream",
     "text": [
      "Отвергаем нулевую гипотезу, конверсия в часы пик отличается, statistic - -15.81287648523105  pvalue - 0.0\n"
     ]
    }
   ],
   "source": [
    "# Проверим однородность с помощью t-теста, предполагая, что ЦПТ выполняется\n",
    "\n",
    "result_tt = st.ttest_ind(df_surge_uniq_sample['order_made'], df_nosurge_uniq_sample['order_made'], equal_var=False)\n",
    "alpha = 0.05\n",
    "if (result_tt.pvalue < alpha):\n",
    "    print(f'Отвергаем нулевую гипотезу, конверсия в часы пик отличается, statistic - {result_tt.statistic}  pvalue - {round(result_tt.pvalue, 5)}')\n",
    "else:\n",
    "    print(f'Не отвергаем нулевую гипотезу конверсия одинаковая, statistic - {result_tt.statistic}  pvalue - {round(result_tt.pvalue, 5)}')"
   ]
  },
  {
   "cell_type": "markdown",
   "metadata": {},
   "source": [
    "Для устройств Android наблюдаем более высокие юзерские отмены\n",
    "\n",
    "\n",
    "H0: количество отказов не зависит от используемой операционной системы"
   ]
  },
  {
   "cell_type": "code",
   "execution_count": 9,
   "metadata": {},
   "outputs": [],
   "source": [
    "# Разделяем датафрейм по целевой метрике\n",
    "df_ios = df[ (df['os'] == 'iOS') & (df['price_seen'] == 1) ]\n",
    "df_android = df[ (df['os'] == 'Android') & (df['price_seen'] == 1)]"
   ]
  },
  {
   "cell_type": "code",
   "execution_count": 10,
   "metadata": {},
   "outputs": [],
   "source": [
    "# Оставляем только уникальных пользователей и усредняем показатели\n",
    "df_ios_uniq = df_ios.groupby(['user_id']).mean().reset_index()\n",
    "df_android_uniq = df_android.groupby(['user_id']).mean().reset_index()"
   ]
  },
  {
   "cell_type": "code",
   "execution_count": 11,
   "metadata": {},
   "outputs": [],
   "source": [
    "# В подвыборке оставим 3000 пользователей, т.к. для стат.тестов минимальный порог 2500\n",
    "\n",
    "df_ios_uniq_sample = df_ios_uniq.sample(n=3000, random_state=1)\n",
    "df_android_uniq_sample = df_android_uniq.sample(n=3000, random_state=1)"
   ]
  },
  {
   "cell_type": "code",
   "execution_count": 12,
   "metadata": {},
   "outputs": [
    {
     "name": "stdout",
     "output_type": "stream",
     "text": [
      "Отвергаем нулевую гипотезу, количество отказов различается, statistic - -7.601923031380705  pvalue - 0.0\n"
     ]
    }
   ],
   "source": [
    "# Проверим однородность с помощью t-теста, предполагая, что ЦПТ выполняется\n",
    "\n",
    "result_tt = st.ttest_ind(df_ios_uniq_sample['user_cancelled'], df_android_uniq_sample['user_cancelled'], equal_var=False)\n",
    "alpha = 0.05\n",
    "if (result_tt.pvalue < alpha):\n",
    "    print(f'Отвергаем нулевую гипотезу, количество отказов различается, statistic - {result_tt.statistic}  pvalue - {round(result_tt.pvalue, 5)}')\n",
    "else:\n",
    "    print(f'Не отвергаем нулевую гипотезу, отказы в обеих группах одинаковые, statistic - {result_tt.statistic}  pvalue - {round(result_tt.pvalue, 5)}')"
   ]
  },
  {
   "cell_type": "code",
   "execution_count": null,
   "metadata": {},
   "outputs": [],
   "source": []
  }
 ],
 "metadata": {
  "kernelspec": {
   "display_name": "Python 3",
   "language": "python",
   "name": "python3"
  },
  "language_info": {
   "codemirror_mode": {
    "name": "ipython",
    "version": 3
   },
   "file_extension": ".py",
   "mimetype": "text/x-python",
   "name": "python",
   "nbconvert_exporter": "python",
   "pygments_lexer": "ipython3",
   "version": "3.8.3"
  }
 },
 "nbformat": 4,
 "nbformat_minor": 4
}
