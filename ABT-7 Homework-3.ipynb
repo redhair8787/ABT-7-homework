{
 "cells": [
  {
   "cell_type": "markdown",
   "metadata": {},
   "source": [
    "Основы распределения и статистики\n",
    "Используя тестовые данные (или ваши собственные), рассчитайте 5 метрик.\n",
    "Для каждой метрики:\n",
    "\n",
    "Посчитайте среднее\n",
    "Посчитайте медиану\n",
    "Посчитайте 95-персентиль\n",
    "Визуализируйте распределение частотным графиком и “ящиком с усами”.\n",
    "\n",
    "Date - датасессии\n",
    "●User_id - id пользователя\n",
    "●Hour - час стартасессии\n",
    "●App_opened - приложение открыто\n",
    "●Price_seen - пользователь ввел данные маршрута и показана цена\n",
    "●Order_made - пользователь кликнул по кнопке заказа\n",
    "●Surge - в этот период был включен surge (надбавка к стоимости поездки в период повышенного спроса)\n",
    "●Ride_completed - поездка успешно завершена\n",
    "●User_cancelled - пользователь отменил поездку\n",
    "●Age - возраст пользователя\n",
    "●Os - операционная система на телефоне\n",
    "●City_center_order - заказ был сделан из центра города\n",
    "●Order_class - класс поездки\n",
    "●Distance - дистанция в км\n",
    "●Rfm - rfm-сегмент пользователя"
   ]
  },
  {
   "cell_type": "code",
   "execution_count": 3,
   "metadata": {},
   "outputs": [],
   "source": [
    "import pandas as pd\n",
    "import seaborn as sns\n",
    "import matplotlib.pyplot as plt\n",
    "import scipy"
   ]
  },
  {
   "cell_type": "code",
   "execution_count": 4,
   "metadata": {},
   "outputs": [
    {
     "data": {
      "text/html": [
       "<div>\n",
       "<style scoped>\n",
       "    .dataframe tbody tr th:only-of-type {\n",
       "        vertical-align: middle;\n",
       "    }\n",
       "\n",
       "    .dataframe tbody tr th {\n",
       "        vertical-align: top;\n",
       "    }\n",
       "\n",
       "    .dataframe thead th {\n",
       "        text-align: right;\n",
       "    }\n",
       "</style>\n",
       "<table border=\"1\" class=\"dataframe\">\n",
       "  <thead>\n",
       "    <tr style=\"text-align: right;\">\n",
       "      <th></th>\n",
       "      <th>Unnamed: 0</th>\n",
       "      <th>date</th>\n",
       "      <th>user_id</th>\n",
       "      <th>hour</th>\n",
       "      <th>app_opened</th>\n",
       "      <th>price_seen</th>\n",
       "      <th>order_made</th>\n",
       "      <th>surge</th>\n",
       "      <th>ride_completed</th>\n",
       "      <th>user_cancelled</th>\n",
       "      <th>age</th>\n",
       "      <th>os</th>\n",
       "      <th>city_center_order</th>\n",
       "      <th>order_class</th>\n",
       "      <th>distance</th>\n",
       "      <th>rfm</th>\n",
       "    </tr>\n",
       "  </thead>\n",
       "  <tbody>\n",
       "    <tr>\n",
       "      <th>0</th>\n",
       "      <td>0</td>\n",
       "      <td>2020-05-21</td>\n",
       "      <td>867689</td>\n",
       "      <td>12</td>\n",
       "      <td>1</td>\n",
       "      <td>1</td>\n",
       "      <td>1</td>\n",
       "      <td>no surge</td>\n",
       "      <td>1</td>\n",
       "      <td>0</td>\n",
       "      <td>20</td>\n",
       "      <td>iOS</td>\n",
       "      <td>0</td>\n",
       "      <td>business</td>\n",
       "      <td>7.982135</td>\n",
       "      <td>low</td>\n",
       "    </tr>\n",
       "    <tr>\n",
       "      <th>1</th>\n",
       "      <td>1</td>\n",
       "      <td>2020-05-23</td>\n",
       "      <td>752172</td>\n",
       "      <td>5</td>\n",
       "      <td>1</td>\n",
       "      <td>1</td>\n",
       "      <td>1</td>\n",
       "      <td>no surge</td>\n",
       "      <td>1</td>\n",
       "      <td>0</td>\n",
       "      <td>37</td>\n",
       "      <td>Android</td>\n",
       "      <td>1</td>\n",
       "      <td>economy</td>\n",
       "      <td>2.908468</td>\n",
       "      <td>high</td>\n",
       "    </tr>\n",
       "    <tr>\n",
       "      <th>2</th>\n",
       "      <td>2</td>\n",
       "      <td>2020-05-20</td>\n",
       "      <td>486559</td>\n",
       "      <td>15</td>\n",
       "      <td>1</td>\n",
       "      <td>1</td>\n",
       "      <td>1</td>\n",
       "      <td>no surge</td>\n",
       "      <td>1</td>\n",
       "      <td>0</td>\n",
       "      <td>47</td>\n",
       "      <td>Android</td>\n",
       "      <td>0</td>\n",
       "      <td>comfort</td>\n",
       "      <td>7.224614</td>\n",
       "      <td>low</td>\n",
       "    </tr>\n",
       "    <tr>\n",
       "      <th>3</th>\n",
       "      <td>3</td>\n",
       "      <td>2020-05-19</td>\n",
       "      <td>304024</td>\n",
       "      <td>0</td>\n",
       "      <td>1</td>\n",
       "      <td>1</td>\n",
       "      <td>1</td>\n",
       "      <td>no surge</td>\n",
       "      <td>1</td>\n",
       "      <td>0</td>\n",
       "      <td>59</td>\n",
       "      <td>Android</td>\n",
       "      <td>1</td>\n",
       "      <td>economy</td>\n",
       "      <td>1.874349</td>\n",
       "      <td>low</td>\n",
       "    </tr>\n",
       "    <tr>\n",
       "      <th>4</th>\n",
       "      <td>4</td>\n",
       "      <td>2020-05-23</td>\n",
       "      <td>139420</td>\n",
       "      <td>0</td>\n",
       "      <td>1</td>\n",
       "      <td>1</td>\n",
       "      <td>1</td>\n",
       "      <td>no surge</td>\n",
       "      <td>1</td>\n",
       "      <td>0</td>\n",
       "      <td>19</td>\n",
       "      <td>Android</td>\n",
       "      <td>0</td>\n",
       "      <td>business</td>\n",
       "      <td>10.704778</td>\n",
       "      <td>medium</td>\n",
       "    </tr>\n",
       "  </tbody>\n",
       "</table>\n",
       "</div>"
      ],
      "text/plain": [
       "   Unnamed: 0        date  user_id  hour  app_opened  price_seen  order_made  \\\n",
       "0           0  2020-05-21   867689    12           1           1           1   \n",
       "1           1  2020-05-23   752172     5           1           1           1   \n",
       "2           2  2020-05-20   486559    15           1           1           1   \n",
       "3           3  2020-05-19   304024     0           1           1           1   \n",
       "4           4  2020-05-23   139420     0           1           1           1   \n",
       "\n",
       "      surge  ride_completed  user_cancelled  age       os  city_center_order  \\\n",
       "0  no surge               1               0   20      iOS                  0   \n",
       "1  no surge               1               0   37  Android                  1   \n",
       "2  no surge               1               0   47  Android                  0   \n",
       "3  no surge               1               0   59  Android                  1   \n",
       "4  no surge               1               0   19  Android                  0   \n",
       "\n",
       "  order_class   distance     rfm  \n",
       "0    business   7.982135     low  \n",
       "1     economy   2.908468    high  \n",
       "2     comfort   7.224614     low  \n",
       "3     economy   1.874349     low  \n",
       "4    business  10.704778  medium  "
      ]
     },
     "execution_count": 4,
     "metadata": {},
     "output_type": "execute_result"
    }
   ],
   "source": [
    "df = pd.read_csv('Netology_A_B-testing_HW_1 (2).csv')\n",
    "df.head()"
   ]
  },
  {
   "cell_type": "code",
   "execution_count": 5,
   "metadata": {},
   "outputs": [
    {
     "name": "stdout",
     "output_type": "stream",
     "text": [
      "Cреднее время входа в приложение: 11.48\n",
      "Медиана: 11.0\n",
      "95-персентиль: 22.0\n"
     ]
    },
    {
     "data": {
      "text/plain": [
       "<matplotlib.axes._subplots.AxesSubplot at 0x205bdd434c0>"
      ]
     },
     "execution_count": 5,
     "metadata": {},
     "output_type": "execute_result"
    },
    {
     "data": {
      "image/png": "[encoded data removed]",
      "text/plain": [
       "<Figure size 1440x288 with 2 Axes>"
      ]
     },
     "metadata": {
      "needs_background": "light"
     },
     "output_type": "display_data"
    }
   ],
   "source": [
    "#Час входа в приложение (hour)\n",
    "\n",
    "print('Cреднее время входа в приложение:', round(df['hour'].mean(), 2))\n",
    "print('Медиана:', round(df['hour'].median(), 2))\n",
    "print('95-персентиль:', round(df['hour'].quantile(0.95), 2))\n",
    "\n",
    "fig, axs = plt.subplots(1,2, figsize=(20, 4))\n",
    "\n",
    "df['hour'].hist(ax=axs[0])\n",
    "df['hour'].plot(kind='box', ax=axs[1])"
   ]
  },
  {
   "cell_type": "code",
   "execution_count": 7,
   "metadata": {},
   "outputs": [
    {
     "name": "stdout",
     "output_type": "stream",
     "text": [
      "Cредний возраст: 40.47\n",
      "Медиана: 40.0\n",
      "95-персентиль: 63.0\n"
     ]
    },
    {
     "data": {
      "text/plain": [
       "<matplotlib.axes._subplots.AxesSubplot at 0x205be069280>"
      ]
     },
     "execution_count": 7,
     "metadata": {},
     "output_type": "execute_result"
    },
    {
     "data": {
      "image/png": "[encoded data removed]",
      "text/plain": [
       "<Figure size 1440x288 with 2 Axes>"
      ]
     },
     "metadata": {
      "needs_background": "light"
     },
     "output_type": "display_data"
    }
   ],
   "source": [
    "#Возраст (age)\n",
    "\n",
    "print('Cредний возраст:', round(df['age'].mean(), 2))\n",
    "print('Медиана:', round(df['age'].median(), 2))\n",
    "print('95-персентиль:', round(df['age'].quantile(0.95), 2))\n",
    "\n",
    "fig, axs = plt.subplots(1,2, figsize=(20, 4))\n",
    "\n",
    "df['age'].hist(ax=axs[0])\n",
    "df['age'].plot(kind='box', ax=axs[1])"
   ]
  },
  {
   "cell_type": "code",
   "execution_count": 8,
   "metadata": {},
   "outputs": [
    {
     "name": "stdout",
     "output_type": "stream",
     "text": [
      "Cреднее расстояние: 5.37\n",
      "Медиана: 4.28\n",
      "95-персентиль: 13.69\n"
     ]
    },
    {
     "data": {
      "text/plain": [
       "<matplotlib.axes._subplots.AxesSubplot at 0x205bdf491c0>"
      ]
     },
     "execution_count": 8,
     "metadata": {},
     "output_type": "execute_result"
    },
    {
     "data": {
      "image/png": "[encoded data removed]",
      "text/plain": [
       "<Figure size 1440x288 with 2 Axes>"
      ]
     },
     "metadata": {
      "needs_background": "light"
     },
     "output_type": "display_data"
    }
   ],
   "source": [
    "#Расстояние (distance)\n",
    "\n",
    "print('Cреднее расстояние:', round(df['distance'].mean(), 2))\n",
    "print('Медиана:', round(df['distance'].median(), 2))\n",
    "print('95-персентиль:', round(df['distance'].quantile(0.95), 2))\n",
    "\n",
    "distance = df['distance'].dropna()\n",
    "\n",
    "fig, axs = plt.subplots(1,2, figsize=(20, 4))\n",
    "\n",
    "distance.hist(ax=axs[0])\n",
    "distance.plot(kind='box', ax=axs[1])\n"
   ]
  },
  {
   "cell_type": "code",
   "execution_count": null,
   "metadata": {},
   "outputs": [],
   "source": []
  }
 ],
 "metadata": {
  "kernelspec": {
   "display_name": "Python 3",
   "language": "python",
   "name": "python3"
  },
  "language_info": {
   "codemirror_mode": {
    "name": "ipython",
    "version": 3
   },
   "file_extension": ".py",
   "mimetype": "text/x-python",
   "name": "python",
   "nbconvert_exporter": "python",
   "pygments_lexer": "ipython3",
   "version": "3.8.3"
  }
 },
 "nbformat": 4,
 "nbformat_minor": 4
}
